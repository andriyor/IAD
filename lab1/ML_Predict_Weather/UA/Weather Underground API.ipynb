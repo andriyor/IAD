{
 "cells": [
  {
   "cell_type": "markdown",
   "metadata": {},
   "source": [
    "## Використання машинного навчання в Python для прогнозування погоди\n",
    "### Збір даних про погоду з WeatherUnderground"
   ]
  },
  {
   "cell_type": "markdown",
   "metadata": {},
   "source": [
    "### Вступ\n",
    "\n",
    "Це перша стаття багатостороння серія з використанням Python та Machine Learning для побудови моделей для прогнозування на основі даних, отриманих з Weather Underground. Серія буде складатися з трьох різних статей, що описують основні аспекти проекту Machine Learning. Теми, що підлягають обговоренню:\n",
    "\n",
    "  1.  збір та обробка даних\n",
    "  2.  моделі лінійної регресії\n",
    "  3.  моделі нейронних мереж\n",
    "\n",
    "Дані, використані в цій серії, будуть зібрані за допомогою безкоштовного API сервысу Weather Underground. Я буду використовувати бібліотеку запитів, щоб взаємодіяти з API, щоб отримувати дані про погоду з 2015 року для міста Лінкольн-Небраска. Після збирання ці дані потрібно буде обробляти та об'єднати у формат, який підходить для аналізу даних, і потім очистити. Ця стаття завершиться обговоренням тестування та перевірки моделей лінійної регресії.\n",
    "\n",
    "Остання стаття буде зосереджена на використанні нейронних мереж. Я буду порівнювати процес побудови моделі нейронної мережі, інтерпретувати результати та загальну точність між моделлю лінійної регресії, побудованої в попередній статті та моделі нейронної мережі."
   ]
  },
  {
   "cell_type": "markdown",
   "metadata": {},
   "source": [
    "### Ознайомлення з Weather Underground API\n",
    "\n",
    "Weather Underground це компанія, яка збирає та поширює дані про різні метеорологічні вимірювання по всьому світу.\n",
    "Компанія надає широкий спектр API, доступних як для комерційного, так і для некомерційного використання.\n",
    "У цій статті я розповім про те, як програмно отримати щоденні дані про погоду від Weather Underground, використовуючи їъ безкоштовний API який доступний для некомерційних цілей.\n",
    "Якщо ви хочете слідувати за туторіалом, ви маєте зареєструвати безкоштовний обліковий запис розробника тут [тут](https://www.wunderground.com/weather/api/).\n",
    "Цей обліковий запис надає ключ API для доступу до веб-служби зі швидкістю 10 запитів за хвилину і до 500 запитів за день.\n",
    "Weather Underground надає безліч різних API веб-служб для доступу до даних, але нам знадобиться лиш API історії.\n",
    "API історії надає звіт про різні метеорологічні виміри для міста та штату в певний день.\n",
    "Формат запиту для ресурсу API історії виглядає наступним чином:\n",
    "\n",
    "http://api.wunderground.com/api/API_KEY/history_YYYYMMDD/q/STATE/CITY.json\n",
    "  -  API_KEY: це API_KEY, що Weather Underground надає вашому обліковому запиту\n",
    "  -  YYYYMMDD: це рядок, що представляє цільову дату вашого запиту\n",
    "  -  STATE: це дволітерна державна абревіатура в США\n",
    "  -  CITY: це назва міста, пов'язаного із запитаною вами державою"
   ]
  },
  {
   "cell_type": "markdown",
   "metadata": {},
   "source": [
    "### Створення запитів до API\n",
    "\n",
    "Щоб надсилати запити до History API Weather Underground і обробляти повернуті дані, я скористаюсь декількома стандартними бібліотеками, а також деякими популярними сторонніми бібліотеками.\n",
    "Нижче наведено таблицю бібліотек, які я буду використовувати, та їх опис.\n",
    "Для інструкцій з установки, будь ласка, зверніться до переліченої документації.\n",
    "\n",
    "\n",
    "| Быбліотека     | Опис використання                        | Джерело           |\n",
    "|-------------------------------------------------------------------------------------|\n",
    "| [datetime](https://docs.python.org/3/library/datetime.html)    | Використовується для інкрементування дня для запитів за день              | Стандартна бібліотека |\n",
    "| [time](https://docs.python.org/3/library/time.html)        |Використовується для затримки запитів до 10 за хвилину | Стандартна бібліотека |\n",
    "| [collections](https://docs.python.org/3/library/collections.html#collections.namedtuple) |Використовуйте namedtuples для стукртурування колекції даних  | Стандартна бібліотека |\n",
    "| [pandas](http://pandas.pydata.org/)      | Використовується для обробки, систематизації та очищення даних      | стороння бібліотека    |\n",
    "| [requests](http://docs.python-requests.org/en/master/)    | Використовується для створення мережевих запитів до API        | стороння бібліотека  |\n",
    "| [matplotlib](https://matplotlib.org/) | Використовується для візуального аналізу | стороння бібліотека |\n",
    "\n",
    "Давайте почнемо з імпорту цих бібліотек."
   ]
  },
  {
   "cell_type": "code",
   "execution_count": 6,
   "metadata": {
    "collapsed": true
   },
   "outputs": [],
   "source": [
    "from datetime import datetime, timedelta\n",
    "import time\n",
    "from collections import namedtuple\n",
    "import pandas as pd\n",
    "import requests\n",
    "import matplotlib.pyplot as plt"
   ]
  },
  {
   "cell_type": "markdown",
   "metadata": {},
   "source": [
    "Тепер я визначу пару констант, що являють собою мій API_KEY, і BASE_URL кінцевої точки API, яку я запитую.\n",
    "Зверніть увагу, що вам потрібно зареєструвати обліковий запис у Weather Underground і отримати власний API_KEY.\n",
    "До моменту публікації цієї статті я відключу свій API_KEY.\n",
    "\n",
    "BASE_URL - це рядок з двома заповнювачами, представленими фігурними дужками.\n",
    "Перші {} будуть заповнені API_KEY, а другі {} будуть замінені датою.\n",
    "Обидва значення будуть інтерпольовані в рядку BASE_URL за допомогою [str.format(...)](https://docs.python.org/2/library/stdtypes.html#str.format) function."
   ]
  },
  {
   "cell_type": "code",
   "execution_count": 7,
   "metadata": {
    "collapsed": true
   },
   "outputs": [],
   "source": [
    "API_KEY = '7052ad35e3c73564'\n",
    "BASE_URL = \"http://api.wunderground.com/api/{}/history_{}/q/NE/Lincoln.json\""
   ]
  },
  {
   "cell_type": "markdown",
   "metadata": {},
   "source": [
    "Далі я ініціалізую цільову дату - перший день 2015 року.\n",
    "Тоді я вкажу властивості, які я хотів би проаналізувати з відповідей, отриманих від API.\n",
    "Властивості - це просто ключі, що містяться в історії -> dailysummary частина повної відповіді JSON.\n",
    "Ці властивості використовуються для визначення namedtuple під назвою DailySummary, який я буду використовувати для упорядкування даних окремих запитів у списку елементами якого є tuples DailySummary."
   ]
  },
  {
   "cell_type": "code",
   "execution_count": 8,
   "metadata": {
    "collapsed": true
   },
   "outputs": [],
   "source": [
    "target_date = datetime(2016, 5, 16)\n",
    "features = [\"date\", \"meantempm\", \"meandewptm\", \"meanpressurem\", \"maxhumidity\", \"minhumidity\", \"maxtempm\",\n",
    "            \"mintempm\", \"maxdewptm\", \"mindewptm\", \"maxpressurem\", \"minpressurem\", \"precipm\"]\n",
    "DailySummary = namedtuple(\"DailySummary\", features)"
   ]
  },
  {
   "cell_type": "markdown",
   "metadata": {},
   "source": [
    "У цьому розділі я буду робити запити до API та збирати успішні відповіді за допомогою функції, визначеної нижче.\n",
    "Ця функція приймає параметри url, api_key, target_date та days."
   ]
  },
  {
   "cell_type": "code",
   "execution_count": 9,
   "metadata": {
    "collapsed": true
   },
   "outputs": [],
   "source": [
    "def extract_weather_data(url, api_key, target_date, days):\n",
    "    records = []\n",
    "    for _ in range(days):\n",
    "        request = BASE_URL.format(API_KEY, target_date.strftime('%Y%m%d'))\n",
    "        response = requests.get(request)\n",
    "        if response.status_code == 200:\n",
    "            data = response.json()['history']['dailysummary'][0]\n",
    "            records.append(DailySummary(\n",
    "                date=target_date,\n",
    "                meantempm=data['meantempm'],\n",
    "                meandewptm=data['meandewptm'],\n",
    "                meanpressurem=data['meanpressurem'],\n",
    "                maxhumidity=data['maxhumidity'],\n",
    "                minhumidity=data['minhumidity'],\n",
    "                maxtempm=data['maxtempm'],\n",
    "                mintempm=data['mintempm'],\n",
    "                maxdewptm=data['maxdewptm'],\n",
    "                mindewptm=data['mindewptm'],\n",
    "                maxpressurem=data['maxpressurem'],\n",
    "                minpressurem=data['minpressurem'],\n",
    "                precipm=data['precipm']))\n",
    "        time.sleep(6)\n",
    "        target_date += timedelta(days=1)\n",
    "    return records"
   ]
  },
  {
   "cell_type": "markdown",
   "metadata": {},
   "source": [
    "Я починаю з визначення списку records, який містить DailySummary namedtuples.\n",
    "Цикл ітерується по числу днів які передані в функцію з параметром days."
   ]
  },
  {
   "cell_type": "markdown",
   "metadata": {},
   "source": [
    "Потім запит відформатовано за допомогою функції str.format () для інтерполяції API_KEY та target_date.\n",
    "Після форматування змінна запиту передається методу бібліотеки requests get (), а відповідь присвоюється змінній response.\n"
   ]
  },
  {
   "cell_type": "markdown",
   "metadata": {},
   "source": [
    "Отримавши відповідь, я хочу переконатися, що запит був успішним, перевіривши, що код стану рівний 200.\n",
    "Якщо він буде успішним, я проаналізую тіло відповіді в JSON за допомогою методу json () повернутого response object.\n",
    "Заклик методу, пов'язаний з тим же самим методом json () Я вибираю індекси історії та щоденних структур підсумків, потім схоплюю перший елемент у списку dailysummary та призначаю його змінній data."
   ]
  },
  {
   "cell_type": "markdown",
   "metadata": {},
   "source": [
    "Тепер, коли у мене є структура даних типу словарь, на яку посилається змінна data, я можу вибрати потрібні поля та інформувати новий екземпляр DailySummary namedtuple, який додається до списку записів."
   ]
  },
  {
   "cell_type": "markdown",
   "metadata": {},
   "source": [
    "### Перша партія запитів"
   ]
  },
  {
   "cell_type": "markdown",
   "metadata": {},
   "source": [
    "Без подальшої затримки я почну з першого набору запитів на максимальну кількість виділених запитів для безкоштовного акаунту розробника - 500.\n",
    "Я пропоную взяти з собою каву  (або інший напій) та подивитися ваше улюблене телевізійне шоу, оскільки ця функція буде виконуватися принаймні годину в залежності від швикості мережі, ми вичерпаємо кількість запитів, і це тільки близько половини даних, з якими ми будемо працювати.\n",
    "Отже, повернімося завтра, де я завершу останню партію запитів, після чого ми можемо почати працювати над обробкою та форматуванням даних у спосіб, придатний для нашого Machine Learning проекту ."
   ]
  },
  {
   "cell_type": "code",
   "execution_count": 10,
   "metadata": {
    "collapsed": true
   },
   "outputs": [],
   "source": [
    "records = extract_weather_data(BASE_URL, API_KEY, target_date, 500)"
   ]
  },
  {
   "cell_type": "markdown",
   "metadata": {},
   "source": [
    "### Завершення виведення даних"
   ]
  },
  {
   "cell_type": "markdown",
   "metadata": {},
   "source": [
    "Гаразд, тепер, це новий день, ми маємо чистий список і до 500 запитів, які можна зробити до API Weather History Underground.\n",
    "Наша партія з 500 запитів, виданих вчора, розпочалася 1 січня 2015 року і закінчилася 15 травня 2016 року (якщо ви не отримали жодних невдалих запитів).\n",
    "Ще раз дозвольте нам почати ще одну партію з 500 запитів, але не залишайте мене на день, тому що як тільки цей останній пакет даних буде зібраний, ми збираємося почати його форматування у Pandas DataFrame і отримати потенційно корисні данні."
   ]
  },
  {
   "cell_type": "code",
   "execution_count": null,
   "metadata": {
    "collapsed": true
   },
   "outputs": [],
   "source": [
    "# if you closed our terminal or Jupyter Notebook reinitialize your imports and\n",
    "# variables first and remember to set your target_date to datetime(2016, 5, 16)\n",
    "records += extract_weather_data(BASE_URL, API_KEY, target_date, 500)"
   ]
  },
  {
   "cell_type": "markdown",
   "metadata": {},
   "source": [
    "### Налаштування нашого Pandas DataFrame\n",
    "\n",
    "Тепер, коли у мене є хороший і значний список записів DailySummary іменованих кортежів, я буду використовувати його для створення Pandas DataFrame.\n",
    "Pandas DataFrame - це дуже корисна структура даних для багатьох завдань програмування, які найбільш популярні для чищення та обробки даних, які використовуються в проектах машинного навчання (або експериментах).\n",
    "Я буду використовувати конструктор класу `Pandas.DataFrame (...)` для інстанції об'єкта DataFrame.\n",
    "Параметри, передані конструктору, - це записи, які представляють дані для DataFrame, список властивостей, який я також використовував для визначення іменованого кортежу DailySummary, який буде вказувати на стовпці DataFrame.\n",
    "Метод set_index () прикріплений до екземпляру DataFrame, щоб вказати дату як індекс."
   ]
  },
  {
   "cell_type": "code",
   "execution_count": null,
   "metadata": {
    "collapsed": true
   },
   "outputs": [],
   "source": [
    "df = pd.DataFrame(records, columns=features).set_index('date')"
   ]
  },
  {
   "cell_type": "markdown",
   "metadata": {},
   "source": [
    "### Визначення властивостей"
   ]
  },
  {
   "cell_type": "markdown",
   "metadata": {},
   "source": [
    "Проекти машинного навчання, також називаються експериментами, часто мають кілька характеристик, які трохи оксимононічні.\n",
    "Під цим я маю на увазі, що цілком корисно мати предметні знання в досліджуваній області, щоб допомогти у виборі значущих властивостей для дослідження в парі з вдумливим припущенням про можливі патерни даних.\n",
    "\n",
    "Проте я також бачив дуже впливові пояснювальні змінні, і модель виникає з майже наївних або принаймні дуже відкритих і мінімальних припущень щодо даних.\n",
    "Маючи інтуїцію яка базується на знаннях, щоб знати, де шукати потенційно корисні властивості та патерни, а також можливість неузгоджено шукати непередбачувані характеристики непредвзято, це надзвичайно важлива частина успішного аналітичного проекту.\n",
    "\n",
    "У зв'язку з цим ми виділили кілька властивостей під час аналізу отриманих щоденних підсумкових даних, які будуть використовуватися в нашому дослідженні.\n",
    "Однак я повністю очікую, що багато хто з них виявиться або неінформативноми для прогнозування погодних умов або невідповідны кандидати що залежать від типу використовуваної моделі, але ключовим є те, що ви просто не знаєте, поки не ретельно вивчите дані.\n",
    "\n",
    "Зараз я не можу сказати, що я маю значні знання в метеорології або прогнозуванні погоди, але я зробив мінімальний пошук підготовчої роботи з використання машинного навчання для прогнозування погоди.\n",
    "Як виявляється, є багато дослідницьких статей на цю тему, і в 2016 році Холмстрем, Лю та Во описують використання лінійної регресії, щоб зробити прогнозування погоди.\n",
    "У їхній статті [Machine Learning Applied to Weather Forecasting](https://pdfs.semanticscholar.org/2761/8afb77c5081d942640333528943149a66edd.pdf), яка застосовується до прогнозування погоди, вони використовували дані про погоду за попередні два дні для наступних сими днів."
   ]
  },
  {
   "cell_type": "markdown",
   "metadata": {},
   "source": [
    "*  max temperature - максимальна температура\n",
    "*  min temperature - мінімальна температура\n",
    "*  mean humidity - середня вологість\n",
    "*  mean atmospheric pressure - середній атмосферний тиск"
   ]
  },
  {
   "cell_type": "markdown",
   "metadata": {},
   "source": [
    "Я буду розширювати свій список властивостей, використовуючи ті, що перераховані нижче, і замість того, щоб використовувати лише попередні два дні, я буду використовувати три дні.\n",
    "\n",
    "*  mean temperature - середня температура\n",
    "*  mean dewpoint - середня точка роси\n",
    "*  mean pressure - середній тиск \n",
    "*  max humidity - максимальна вологість\n",
    "*  min humidity - мінімальна вологість\n",
    "*  max dewpoint - максимальна точка роси \n",
    "*  min dewpoint - мінімальна точка роси\n",
    "*  max pressure - максимальний тиск\n",
    "*  min pressure - мінімальний тиск\n",
    "*  precipitation - опади"
   ]
  },
  {
   "cell_type": "markdown",
   "metadata": {},
   "source": [
    "Тож далі слід з'ясувати спосіб включення цих нових властивостей у вигляді стовпців у нашому DataFrame.\n",
    "Для цього я буду створювати меншу підмножину поточного DataFrame, щоб полегшити роботу з розробкою алгоритму для створення цих властивостей.\n",
    "Я буду створювати `tmp` DataFrame, що складається всього з 10 записів і властивостей meantempm і meandewptm."
   ]
  },
  {
   "cell_type": "code",
   "execution_count": 12,
   "metadata": {},
   "outputs": [
    {
     "data": {
      "text/html": [
       "<div>\n",
       "<table border=\"1\" class=\"dataframe\">\n",
       "  <thead>\n",
       "    <tr style=\"text-align: right;\">\n",
       "      <th></th>\n",
       "      <th>meantempm</th>\n",
       "      <th>meandewptm</th>\n",
       "    </tr>\n",
       "    <tr>\n",
       "      <th>date</th>\n",
       "      <th></th>\n",
       "      <th></th>\n",
       "    </tr>\n",
       "  </thead>\n",
       "  <tbody>\n",
       "    <tr>\n",
       "      <th>2015-01-01</th>\n",
       "      <td>-6</td>\n",
       "      <td>-12</td>\n",
       "    </tr>\n",
       "    <tr>\n",
       "      <th>2015-01-02</th>\n",
       "      <td>-6</td>\n",
       "      <td>-9</td>\n",
       "    </tr>\n",
       "    <tr>\n",
       "      <th>2015-01-03</th>\n",
       "      <td>-4</td>\n",
       "      <td>-11</td>\n",
       "    </tr>\n",
       "    <tr>\n",
       "      <th>2015-01-04</th>\n",
       "      <td>-14</td>\n",
       "      <td>-19</td>\n",
       "    </tr>\n",
       "    <tr>\n",
       "      <th>2015-01-05</th>\n",
       "      <td>-9</td>\n",
       "      <td>-14</td>\n",
       "    </tr>\n",
       "    <tr>\n",
       "      <th>2015-01-06</th>\n",
       "      <td>-10</td>\n",
       "      <td>-15</td>\n",
       "    </tr>\n",
       "    <tr>\n",
       "      <th>2015-01-07</th>\n",
       "      <td>-16</td>\n",
       "      <td>-22</td>\n",
       "    </tr>\n",
       "    <tr>\n",
       "      <th>2015-01-08</th>\n",
       "      <td>-7</td>\n",
       "      <td>-12</td>\n",
       "    </tr>\n",
       "    <tr>\n",
       "      <th>2015-01-09</th>\n",
       "      <td>-11</td>\n",
       "      <td>-19</td>\n",
       "    </tr>\n",
       "    <tr>\n",
       "      <th>2015-01-10</th>\n",
       "      <td>-6</td>\n",
       "      <td>-12</td>\n",
       "    </tr>\n",
       "  </tbody>\n",
       "</table>\n",
       "</div>"
      ],
      "text/plain": [
       "           meantempm meandewptm\n",
       "date                           \n",
       "2015-01-01        -6        -12\n",
       "2015-01-02        -6         -9\n",
       "2015-01-03        -4        -11\n",
       "2015-01-04       -14        -19\n",
       "2015-01-05        -9        -14\n",
       "2015-01-06       -10        -15\n",
       "2015-01-07       -16        -22\n",
       "2015-01-08        -7        -12\n",
       "2015-01-09       -11        -19\n",
       "2015-01-10        -6        -12"
      ]
     },
     "execution_count": 93,
     "metadata": {},
     "output_type": "execute_result"
    }
   ],
   "source": [
    "tmp = df[['meantempm', 'meandewptm']].head(10)\n",
    "tmp"
   ]
  },
  {
   "cell_type": "markdown",
   "metadata": {
    "collapsed": true
   },
   "source": [
    "Давайте розіб'ємо те, що ми сподіваємося виконати, а потім переведемо його в код.\n",
    "Для кожного дня (рядка) і для заданої властивості (стовпця) я хотів би знайти значення для цієї функції за N днів до.\n",
    "Для кожного значення N (1-3 у нашому випадку) я хочу створити новий стовпчик для цієї властивості, що відповідає  N-ному виміру попереднього дня."
   ]
  },
  {
   "cell_type": "code",
   "execution_count": 13,
   "metadata": {},
   "outputs": [
    {
     "data": {
      "text/html": [
       "<div>\n",
       "<table border=\"1\" class=\"dataframe\">\n",
       "  <thead>\n",
       "    <tr style=\"text-align: right;\">\n",
       "      <th></th>\n",
       "      <th>meantempm</th>\n",
       "      <th>meandewptm</th>\n",
       "      <th>meantempm_1</th>\n",
       "    </tr>\n",
       "    <tr>\n",
       "      <th>date</th>\n",
       "      <th></th>\n",
       "      <th></th>\n",
       "      <th></th>\n",
       "    </tr>\n",
       "  </thead>\n",
       "  <tbody>\n",
       "    <tr>\n",
       "      <th>2015-01-01</th>\n",
       "      <td>-6</td>\n",
       "      <td>-12</td>\n",
       "      <td>None</td>\n",
       "    </tr>\n",
       "    <tr>\n",
       "      <th>2015-01-02</th>\n",
       "      <td>-6</td>\n",
       "      <td>-9</td>\n",
       "      <td>-6</td>\n",
       "    </tr>\n",
       "    <tr>\n",
       "      <th>2015-01-03</th>\n",
       "      <td>-4</td>\n",
       "      <td>-11</td>\n",
       "      <td>-6</td>\n",
       "    </tr>\n",
       "    <tr>\n",
       "      <th>2015-01-04</th>\n",
       "      <td>-14</td>\n",
       "      <td>-19</td>\n",
       "      <td>-4</td>\n",
       "    </tr>\n",
       "    <tr>\n",
       "      <th>2015-01-05</th>\n",
       "      <td>-9</td>\n",
       "      <td>-14</td>\n",
       "      <td>-14</td>\n",
       "    </tr>\n",
       "    <tr>\n",
       "      <th>2015-01-06</th>\n",
       "      <td>-10</td>\n",
       "      <td>-15</td>\n",
       "      <td>-9</td>\n",
       "    </tr>\n",
       "    <tr>\n",
       "      <th>2015-01-07</th>\n",
       "      <td>-16</td>\n",
       "      <td>-22</td>\n",
       "      <td>-10</td>\n",
       "    </tr>\n",
       "    <tr>\n",
       "      <th>2015-01-08</th>\n",
       "      <td>-7</td>\n",
       "      <td>-12</td>\n",
       "      <td>-16</td>\n",
       "    </tr>\n",
       "    <tr>\n",
       "      <th>2015-01-09</th>\n",
       "      <td>-11</td>\n",
       "      <td>-19</td>\n",
       "      <td>-7</td>\n",
       "    </tr>\n",
       "    <tr>\n",
       "      <th>2015-01-10</th>\n",
       "      <td>-6</td>\n",
       "      <td>-12</td>\n",
       "      <td>-11</td>\n",
       "    </tr>\n",
       "  </tbody>\n",
       "</table>\n",
       "</div>"
      ],
      "text/plain": [
       "           meantempm meandewptm meantempm_1\n",
       "date                                       \n",
       "2015-01-01        -6        -12        None\n",
       "2015-01-02        -6         -9          -6\n",
       "2015-01-03        -4        -11          -6\n",
       "2015-01-04       -14        -19          -4\n",
       "2015-01-05        -9        -14         -14\n",
       "2015-01-06       -10        -15          -9\n",
       "2015-01-07       -16        -22         -10\n",
       "2015-01-08        -7        -12         -16\n",
       "2015-01-09       -11        -19          -7\n",
       "2015-01-10        -6        -12         -11"
      ]
     },
     "execution_count": 94,
     "metadata": {},
     "output_type": "execute_result"
    }
   ],
   "source": [
    "# 1 day prior\n",
    "N = 1\n",
    "\n",
    "# target measurement of mean temperature\n",
    "feature = 'meantempm'\n",
    "\n",
    "# total number of rows\n",
    "rows = tmp.shape[0]\n",
    "\n",
    "# a list representing Nth prior measurements of feature\n",
    "# notice that the front of the list needs to be padded with N\n",
    "# None values to maintain the constistent rows length for each N\n",
    "nth_prior_measurements = [None]*N + [tmp[feature][i-N] for i in range(N, rows)]\n",
    "\n",
    "# make a new column name of feature_N and add to DataFrame\n",
    "col_name = \"{}_{}\".format(feature, N)\n",
    "tmp[col_name] = nth_prior_measurements\n",
    "tmp"
   ]
  },
  {
   "cell_type": "markdown",
   "metadata": {},
   "source": [
    "Гаразд, здається, у нас є основні кроки, необхідні для створення наших нових властивостей. \n",
    "Зараз я оберну ці кроки в функцію та виконаю її, побудуючи всі потрібні властивості.  "
   ]
  },
  {
   "cell_type": "code",
   "execution_count": null,
   "metadata": {
    "collapsed": true
   },
   "outputs": [],
   "source": [
    "def derive_nth_day_feature(df, feature, N):\n",
    "    rows = df.shape[0]\n",
    "    nth_prior_meassurements = [None]*N + [df[feature][i-N] for i in range(N, rows)]\n",
    "    col_name = \"{}_{}\".format(feature, N)\n",
    "    df[col_name] = nth_prior_meassurements"
   ]
  },
  {
   "cell_type": "markdown",
   "metadata": {},
   "source": [
    "Тепер я напишу цикл для перебору над властивостей у спискау властивостей, визначеним раніше, і для кожної властивості, яка не є датою, і за N днів 1 до 3 викличу нашу функцію додати похідні властивості, які ми хочемо оцінити для прогнозування температур."
   ]
  },
  {
   "cell_type": "code",
   "execution_count": null,
   "metadata": {
    "collapsed": true
   },
   "outputs": [],
   "source": [
    "for feature in features:\n",
    "    if feature != 'date':\n",
    "        for N in range(1, 4):\n",
    "            derive_nth_day_feature(df, feature, N)"
   ]
  },
  {
   "cell_type": "markdown",
   "metadata": {},
   "source": [
    "Для перевірки, я подивлюся на стовпці, щоб переконатися, що вони виглядають як очікується."
   ]
  },
  {
   "cell_type": "code",
   "execution_count": 15,
   "metadata": {},
   "outputs": [
    {
     "data": {
      "text/plain": [
       "Index(['meantempm', 'meandewptm', 'meanpressurem', 'maxhumidity',\n",
       "       'minhumidity', 'maxtempm', 'mintempm', 'maxdewptm', 'mindewptm',\n",
       "       'maxpressurem', 'minpressurem', 'precipm', 'meantempm_1', 'meantempm_2',\n",
       "       'meantempm_3', 'meandewptm_1', 'meandewptm_2', 'meandewptm_3',\n",
       "       'meanpressurem_1', 'meanpressurem_2', 'meanpressurem_3',\n",
       "       'maxhumidity_1', 'maxhumidity_2', 'maxhumidity_3', 'minhumidity_1',\n",
       "       'minhumidity_2', 'minhumidity_3', 'maxtempm_1', 'maxtempm_2',\n",
       "       'maxtempm_3', 'mintempm_1', 'mintempm_2', 'mintempm_3', 'maxdewptm_1',\n",
       "       'maxdewptm_2', 'maxdewptm_3', 'mindewptm_1', 'mindewptm_2',\n",
       "       'mindewptm_3', 'maxpressurem_1', 'maxpressurem_2', 'maxpressurem_3',\n",
       "       'minpressurem_1', 'minpressurem_2', 'minpressurem_3', 'precipm_1',\n",
       "       'precipm_2', 'precipm_3'],\n",
       "      dtype='object')"
      ]
     },
     "execution_count": 8,
     "metadata": {},
     "output_type": "execute_result"
    }
   ],
   "source": [
    "df.columns"
   ]
  },
  {
   "cell_type": "markdown",
   "metadata": {},
   "source": [
    "Відмінно! Схоже, ми маємо те, що нам потрібно. Наступне, що я хочу зробити - це оцінити якість даних та очистити їх там, де це потрібно."
   ]
  },
  {
   "cell_type": "markdown",
   "metadata": {},
   "source": [
    "### Найважливіша частина - Очищення даних\n",
    "Як зазначає назва розділу, найважливішою частиною аналітичного проекту -  переконатися, що ви використовуєте якісні дані.\n",
    "Прислів'я  \"Сміття на вході, сміття на виході \", як завжди, доречне, коли мова йде про машинне навчання.\n",
    "Проте очистка данних частину як частина аналітичного проекту, є не просто однією з найважливіших частин, а й найбільш трудомістким.\n",
    "Щоб забезпечити якість даних для даного проекту, в цьому розділі я буду шукати небажані дані, відсутні значення, узгодженість типів даних та [вииди](https://www.wikiwand.com/en/Outlier), а потім прийняти деякі рішення щодо того як їх обробляти, якщо вони виникнуть.\n",
    "\n",
    "Перше, що я хочу зробити - це видалити будь-які стовпці DataFrame, яким я не цікавлюся, щоб зменшити обсяг даних, з якими я працюю.\n",
    "Метою проекту є прогнозування майбутньої температури, яка базується на останніх трьох днях погодних вимірів.\n",
    "Маючи це на увазі, ми хочемо зберегти мінімальну, максимальну та середню температуру на кожен день та також всі нові похідні змінні, які ми додали в останніх розділах."
   ]
  },
  {
   "cell_type": "code",
   "execution_count": 16,
   "metadata": {},
   "outputs": [
    {
     "data": {
      "text/plain": [
       "Index(['meantempm', 'maxtempm', 'mintempm', 'meantempm_1', 'meantempm_2',\n",
       "       'meantempm_3', 'meandewptm_1', 'meandewptm_2', 'meandewptm_3',\n",
       "       'meanpressurem_1', 'meanpressurem_2', 'meanpressurem_3',\n",
       "       'maxhumidity_1', 'maxhumidity_2', 'maxhumidity_3', 'minhumidity_1',\n",
       "       'minhumidity_2', 'minhumidity_3', 'maxtempm_1', 'maxtempm_2',\n",
       "       'maxtempm_3', 'mintempm_1', 'mintempm_2', 'mintempm_3', 'maxdewptm_1',\n",
       "       'maxdewptm_2', 'maxdewptm_3', 'mindewptm_1', 'mindewptm_2',\n",
       "       'mindewptm_3', 'maxpressurem_1', 'maxpressurem_2', 'maxpressurem_3',\n",
       "       'minpressurem_1', 'minpressurem_2', 'minpressurem_3', 'precipm_1',\n",
       "       'precipm_2', 'precipm_3'],\n",
       "      dtype='object')"
      ]
     },
     "execution_count": 9,
     "metadata": {},
     "output_type": "execute_result"
    }
   ],
   "source": [
    "# make list of original features without meantempm, mintempm, and maxtempm\n",
    "to_remove = [feature \n",
    "             for feature in features \n",
    "             if feature not in ['meantempm', 'mintempm', 'maxtempm']]\n",
    "\n",
    "# make a list of columns to keep\n",
    "to_keep = [col for col in df.columns if col not in to_remove]\n",
    "\n",
    "# select only the columns in to_keep and assign to df\n",
    "df = df[to_keep]\n",
    "df.columns"
   ]
  },
  {
   "cell_type": "markdown",
   "metadata": {},
   "source": [
    "Наступне, що я хочу зробити, - це використати деякі вбудовані функції Pandas, щоб краще зрозуміти ці дані та потенційно визначити окремі області, на яких потрібно сфокусуватися.\n",
    "Перша функція - це метод DataFrame `info ()`, який, великий сюрприз ..., надає інформацію про DataFrame.\n",
    "Нас цікавить стовбець \"data type\"."
   ]
  },
  {
   "cell_type": "code",
   "execution_count": 17,
   "metadata": {},
   "outputs": [
    {
     "name": "stdout",
     "output_type": "stream",
     "text": [
      "<class 'pandas.core.frame.DataFrame'>\n",
      "DatetimeIndex: 1000 entries, 2015-01-01 to 2017-09-27\n",
      "Data columns (total 39 columns):\n",
      "meantempm          1000 non-null object\n",
      "maxtempm           1000 non-null object\n",
      "mintempm           1000 non-null object\n",
      "meantempm_1        999 non-null object\n",
      "meantempm_2        998 non-null object\n",
      "meantempm_3        997 non-null object\n",
      "meandewptm_1       999 non-null object\n",
      "meandewptm_2       998 non-null object\n",
      "meandewptm_3       997 non-null object\n",
      "meanpressurem_1    999 non-null object\n",
      "meanpressurem_2    998 non-null object\n",
      "meanpressurem_3    997 non-null object\n",
      "maxhumidity_1      999 non-null object\n",
      "maxhumidity_2      998 non-null object\n",
      "maxhumidity_3      997 non-null object\n",
      "minhumidity_1      999 non-null object\n",
      "minhumidity_2      998 non-null object\n",
      "minhumidity_3      997 non-null object\n",
      "maxtempm_1         999 non-null object\n",
      "maxtempm_2         998 non-null object\n",
      "maxtempm_3         997 non-null object\n",
      "mintempm_1         999 non-null object\n",
      "mintempm_2         998 non-null object\n",
      "mintempm_3         997 non-null object\n",
      "maxdewptm_1        999 non-null object\n",
      "maxdewptm_2        998 non-null object\n",
      "maxdewptm_3        997 non-null object\n",
      "mindewptm_1        999 non-null object\n",
      "mindewptm_2        998 non-null object\n",
      "mindewptm_3        997 non-null object\n",
      "maxpressurem_1     999 non-null object\n",
      "maxpressurem_2     998 non-null object\n",
      "maxpressurem_3     997 non-null object\n",
      "minpressurem_1     999 non-null object\n",
      "minpressurem_2     998 non-null object\n",
      "minpressurem_3     997 non-null object\n",
      "precipm_1          999 non-null object\n",
      "precipm_2          998 non-null object\n",
      "precipm_3          997 non-null object\n",
      "dtypes: object(39)\n",
      "memory usage: 312.5+ KB\n"
     ]
    }
   ],
   "source": [
    "df.info()"
   ]
  },
  {
   "cell_type": "markdown",
   "metadata": {},
   "source": [
    "Зверніть увагу, що тип даних кожного стовпця являє собою тип object.\n",
    "Нам потрібно перетворити всі данні з стовбчиків на дійсні для числового аналізу, який ми сподіваємося виконати.\n",
    "Для цього я буду використовувати метод DataFrame `apply ()` для застосування методу Pandas to_numeric до всіх значень DataFrame. Параметр error = 'coerce' замінить будь-які текстові значення на Nans.\n",
    "Загальноприйнятним є пошук текстових значень в даних дикої природи, які зазвичай походять із збирача даних, де дані відсутні або недійсні."
   ]
  },
  {
   "cell_type": "code",
   "execution_count": 18,
   "metadata": {},
   "outputs": [
    {
     "name": "stdout",
     "output_type": "stream",
     "text": [
      "<class 'pandas.core.frame.DataFrame'>\n",
      "DatetimeIndex: 1000 entries, 2015-01-01 to 2017-09-27\n",
      "Data columns (total 39 columns):\n",
      "meantempm          1000 non-null int64\n",
      "maxtempm           1000 non-null int64\n",
      "mintempm           1000 non-null int64\n",
      "meantempm_1        999 non-null float64\n",
      "meantempm_2        998 non-null float64\n",
      "meantempm_3        997 non-null float64\n",
      "meandewptm_1       999 non-null float64\n",
      "meandewptm_2       998 non-null float64\n",
      "meandewptm_3       997 non-null float64\n",
      "meanpressurem_1    999 non-null float64\n",
      "meanpressurem_2    998 non-null float64\n",
      "meanpressurem_3    997 non-null float64\n",
      "maxhumidity_1      999 non-null float64\n",
      "maxhumidity_2      998 non-null float64\n",
      "maxhumidity_3      997 non-null float64\n",
      "minhumidity_1      999 non-null float64\n",
      "minhumidity_2      998 non-null float64\n",
      "minhumidity_3      997 non-null float64\n",
      "maxtempm_1         999 non-null float64\n",
      "maxtempm_2         998 non-null float64\n",
      "maxtempm_3         997 non-null float64\n",
      "mintempm_1         999 non-null float64\n",
      "mintempm_2         998 non-null float64\n",
      "mintempm_3         997 non-null float64\n",
      "maxdewptm_1        999 non-null float64\n",
      "maxdewptm_2        998 non-null float64\n",
      "maxdewptm_3        997 non-null float64\n",
      "mindewptm_1        999 non-null float64\n",
      "mindewptm_2        998 non-null float64\n",
      "mindewptm_3        997 non-null float64\n",
      "maxpressurem_1     999 non-null float64\n",
      "maxpressurem_2     998 non-null float64\n",
      "maxpressurem_3     997 non-null float64\n",
      "minpressurem_1     999 non-null float64\n",
      "minpressurem_2     998 non-null float64\n",
      "minpressurem_3     997 non-null float64\n",
      "precipm_1          889 non-null float64\n",
      "precipm_2          889 non-null float64\n",
      "precipm_3          888 non-null float64\n",
      "dtypes: float64(36), int64(3)\n",
      "memory usage: 312.5 KB\n"
     ]
    }
   ],
   "source": [
    "df = df.apply(pd.to_numeric, errors='coerce')\n",
    "df.info()"
   ]
  },
  {
   "cell_type": "markdown",
   "metadata": {},
   "source": [
    "Тепер, коли всі наші дані мають тип даних який я хотів, тепер я подивлюся на деяку загальну статистику властивостей і скористаюся [емпіричним правилом](https://en.wikipedia.org/wiki/Rule_of_thumb) для перевірки наявності екстримальних викидів.\n",
    "Метод DataFrame `describe ()` створює DataFrame, що містить обчислення, середнього, стандартного відхилення, мінімальне, 25 [процентиль](https://en.wikipedia.org/wiki/Percentile), 50 процентиль (або медіана), 75-й процентиль та максимальне значення.\n",
    "Це може бути дуже корисною інформацією для оцінки розподілу даних.\n",
    "\n",
    "Я хотів би додати до цієї інформації, обчисливши інший вихідний стовпчик, який вказує на існування викидів.\n",
    "Емпіричне правило для виявлення екстремального відступу - це значення, менш ніж 3 міжквартильних діапазонів коливаються нижче 25-го процентиля або 3 [міжквартильних діапазонів](https://en.wikipedia.org/wiki/Interquartile_range) вище 75-го процентиля.\n",
    "Міжквартильний діапазон - це просто різниця між 75-м процентилем і 25-м процентилеєм."
   ]
  },
  {
   "cell_type": "code",
   "execution_count": 19,
   "metadata": {},
   "outputs": [
    {
     "data": {
      "text/html": [
       "<div>\n",
       "<table border=\"1\" class=\"dataframe\">\n",
       "  <thead>\n",
       "    <tr style=\"text-align: right;\">\n",
       "      <th></th>\n",
       "      <th>count</th>\n",
       "      <th>mean</th>\n",
       "      <th>std</th>\n",
       "      <th>min</th>\n",
       "      <th>25%</th>\n",
       "      <th>50%</th>\n",
       "      <th>75%</th>\n",
       "      <th>max</th>\n",
       "      <th>outliers</th>\n",
       "    </tr>\n",
       "  </thead>\n",
       "  <tbody>\n",
       "    <tr>\n",
       "      <th>maxhumidity_1</th>\n",
       "      <td>997.0</td>\n",
       "      <td>88.107322</td>\n",
       "      <td>9.280627</td>\n",
       "      <td>47.0</td>\n",
       "      <td>83.0</td>\n",
       "      <td>90.0</td>\n",
       "      <td>93.00</td>\n",
       "      <td>100.00</td>\n",
       "      <td>True</td>\n",
       "    </tr>\n",
       "    <tr>\n",
       "      <th>maxhumidity_2</th>\n",
       "      <td>997.0</td>\n",
       "      <td>88.106319</td>\n",
       "      <td>9.280152</td>\n",
       "      <td>47.0</td>\n",
       "      <td>83.0</td>\n",
       "      <td>90.0</td>\n",
       "      <td>93.00</td>\n",
       "      <td>100.00</td>\n",
       "      <td>True</td>\n",
       "    </tr>\n",
       "    <tr>\n",
       "      <th>maxhumidity_3</th>\n",
       "      <td>997.0</td>\n",
       "      <td>88.093280</td>\n",
       "      <td>9.276775</td>\n",
       "      <td>47.0</td>\n",
       "      <td>83.0</td>\n",
       "      <td>90.0</td>\n",
       "      <td>93.00</td>\n",
       "      <td>100.00</td>\n",
       "      <td>True</td>\n",
       "    </tr>\n",
       "    <tr>\n",
       "      <th>maxpressurem_1</th>\n",
       "      <td>997.0</td>\n",
       "      <td>1019.913741</td>\n",
       "      <td>7.755590</td>\n",
       "      <td>993.0</td>\n",
       "      <td>1015.0</td>\n",
       "      <td>1019.0</td>\n",
       "      <td>1024.00</td>\n",
       "      <td>1055.00</td>\n",
       "      <td>True</td>\n",
       "    </tr>\n",
       "    <tr>\n",
       "      <th>maxpressurem_2</th>\n",
       "      <td>997.0</td>\n",
       "      <td>1019.917753</td>\n",
       "      <td>7.757705</td>\n",
       "      <td>993.0</td>\n",
       "      <td>1015.0</td>\n",
       "      <td>1019.0</td>\n",
       "      <td>1024.00</td>\n",
       "      <td>1055.00</td>\n",
       "      <td>True</td>\n",
       "    </tr>\n",
       "    <tr>\n",
       "      <th>maxpressurem_3</th>\n",
       "      <td>997.0</td>\n",
       "      <td>1019.927783</td>\n",
       "      <td>7.757805</td>\n",
       "      <td>993.0</td>\n",
       "      <td>1015.0</td>\n",
       "      <td>1019.0</td>\n",
       "      <td>1024.00</td>\n",
       "      <td>1055.00</td>\n",
       "      <td>True</td>\n",
       "    </tr>\n",
       "    <tr>\n",
       "      <th>minpressurem_1</th>\n",
       "      <td>997.0</td>\n",
       "      <td>1012.317954</td>\n",
       "      <td>7.885743</td>\n",
       "      <td>956.0</td>\n",
       "      <td>1008.0</td>\n",
       "      <td>1012.0</td>\n",
       "      <td>1017.00</td>\n",
       "      <td>1035.00</td>\n",
       "      <td>True</td>\n",
       "    </tr>\n",
       "    <tr>\n",
       "      <th>minpressurem_2</th>\n",
       "      <td>997.0</td>\n",
       "      <td>1012.319960</td>\n",
       "      <td>7.886681</td>\n",
       "      <td>956.0</td>\n",
       "      <td>1008.0</td>\n",
       "      <td>1012.0</td>\n",
       "      <td>1017.00</td>\n",
       "      <td>1035.00</td>\n",
       "      <td>True</td>\n",
       "    </tr>\n",
       "    <tr>\n",
       "      <th>minpressurem_3</th>\n",
       "      <td>997.0</td>\n",
       "      <td>1012.326981</td>\n",
       "      <td>7.889511</td>\n",
       "      <td>956.0</td>\n",
       "      <td>1008.0</td>\n",
       "      <td>1012.0</td>\n",
       "      <td>1017.00</td>\n",
       "      <td>1035.00</td>\n",
       "      <td>True</td>\n",
       "    </tr>\n",
       "    <tr>\n",
       "      <th>precipm_1</th>\n",
       "      <td>997.0</td>\n",
       "      <td>2.593180</td>\n",
       "      <td>8.428058</td>\n",
       "      <td>0.0</td>\n",
       "      <td>0.0</td>\n",
       "      <td>0.0</td>\n",
       "      <td>0.25</td>\n",
       "      <td>95.76</td>\n",
       "      <td>True</td>\n",
       "    </tr>\n",
       "    <tr>\n",
       "      <th>precipm_2</th>\n",
       "      <td>997.0</td>\n",
       "      <td>2.593180</td>\n",
       "      <td>8.428058</td>\n",
       "      <td>0.0</td>\n",
       "      <td>0.0</td>\n",
       "      <td>0.0</td>\n",
       "      <td>0.25</td>\n",
       "      <td>95.76</td>\n",
       "      <td>True</td>\n",
       "    </tr>\n",
       "    <tr>\n",
       "      <th>precipm_3</th>\n",
       "      <td>997.0</td>\n",
       "      <td>2.573049</td>\n",
       "      <td>8.410223</td>\n",
       "      <td>0.0</td>\n",
       "      <td>0.0</td>\n",
       "      <td>0.0</td>\n",
       "      <td>0.25</td>\n",
       "      <td>95.76</td>\n",
       "      <td>True</td>\n",
       "    </tr>\n",
       "  </tbody>\n",
       "</table>\n",
       "</div>"
      ],
      "text/plain": [
       "                count         mean       std    min     25%     50%      75%  \\\n",
       "maxhumidity_1   997.0    88.107322  9.280627   47.0    83.0    90.0    93.00   \n",
       "maxhumidity_2   997.0    88.106319  9.280152   47.0    83.0    90.0    93.00   \n",
       "maxhumidity_3   997.0    88.093280  9.276775   47.0    83.0    90.0    93.00   \n",
       "maxpressurem_1  997.0  1019.913741  7.755590  993.0  1015.0  1019.0  1024.00   \n",
       "maxpressurem_2  997.0  1019.917753  7.757705  993.0  1015.0  1019.0  1024.00   \n",
       "maxpressurem_3  997.0  1019.927783  7.757805  993.0  1015.0  1019.0  1024.00   \n",
       "minpressurem_1  997.0  1012.317954  7.885743  956.0  1008.0  1012.0  1017.00   \n",
       "minpressurem_2  997.0  1012.319960  7.886681  956.0  1008.0  1012.0  1017.00   \n",
       "minpressurem_3  997.0  1012.326981  7.889511  956.0  1008.0  1012.0  1017.00   \n",
       "precipm_1       997.0     2.593180  8.428058    0.0     0.0     0.0     0.25   \n",
       "precipm_2       997.0     2.593180  8.428058    0.0     0.0     0.0     0.25   \n",
       "precipm_3       997.0     2.573049  8.410223    0.0     0.0     0.0     0.25   \n",
       "\n",
       "                    max outliers  \n",
       "maxhumidity_1    100.00     True  \n",
       "maxhumidity_2    100.00     True  \n",
       "maxhumidity_3    100.00     True  \n",
       "maxpressurem_1  1055.00     True  \n",
       "maxpressurem_2  1055.00     True  \n",
       "maxpressurem_3  1055.00     True  \n",
       "minpressurem_1  1035.00     True  \n",
       "minpressurem_2  1035.00     True  \n",
       "minpressurem_3  1035.00     True  \n",
       "precipm_1         95.76     True  \n",
       "precipm_2         95.76     True  \n",
       "precipm_3         95.76     True  "
      ]
     },
     "execution_count": 20,
     "metadata": {},
     "output_type": "execute_result"
    }
   ],
   "source": [
    "# Call describe on df and transpose it due to the large number of columns\n",
    "spread = df.describe().T\n",
    "\n",
    "# precalculate interquartile range for ease of use in next calculation\n",
    "IQR = spread['75%'] - spread['25%']\n",
    "\n",
    "# create an outliers column which is either 3 IQRs below the first quartile or\n",
    "# 3 IQRs above the third quartile\n",
    "spread['outliers'] = (spread['min']<(spread['25%']-(3*IQR)))|(spread['max'] > (spread['75%']+3*IQR))\n",
    "\n",
    "# just display the features containing extreme outliers\n",
    "spread.ix[spread.outliers,]"
   ]
  }
 ],
 "metadata": {
  "kernelspec": {
   "display_name": "Python 3",
   "language": "python",
   "name": "python3"
  },
  "language_info": {
   "codemirror_mode": {
    "name": "ipython",
    "version": 3
   },
   "file_extension": ".py",
   "mimetype": "text/x-python",
   "name": "python",
   "nbconvert_exporter": "python",
   "pygments_lexer": "ipython3",
   "version": "3.5.2"
  }
 },
 "nbformat": 4,
 "nbformat_minor": 2
}
